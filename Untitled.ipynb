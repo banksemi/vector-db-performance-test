{
 "cells": [
  {
   "cell_type": "code",
   "id": "08eca8a8-7dee-4cd1-b953-15633e52538f",
   "metadata": {
    "ExecuteTime": {
     "end_time": "2025-09-22T16:27:09.191979Z",
     "start_time": "2025-09-22T16:27:09.188719Z"
    }
   },
   "source": [
    "from python_on_whales import DockerClient\n",
    "import psycopg2\n",
    "from datasets import load_dataset\n",
    "from tqdm import tqdm\n",
    "from psycopg2.extras import execute_values\n",
    "\n",
    "from src.databases.pgvector_database import PgVectorDatabase"
   ],
   "outputs": [],
   "execution_count": 3
  },
  {
   "metadata": {
    "ExecuteTime": {
     "end_time": "2025-09-22T16:22:58.084625Z",
     "start_time": "2025-09-22T16:22:12.601372Z"
    }
   },
   "cell_type": "code",
   "source": [
    "import requests\n",
    "import os\n",
    "\n",
    "base_url=\"https://assets.zilliz.com/benchmark/openai_small_50k/\"\n",
    "files = ['train.parquet', 'test.parquet', 'neighbors.parquet']\n",
    "\n",
    "os.makedirs('datas', exist_ok=True)\n",
    "def download_file_streaming(url, local_filename, chunk_size=8192):\n",
    "    with requests.get(url, stream=True) as response:\n",
    "        response.raise_for_status()\n",
    "\n",
    "        total_size = int(response.headers.get('content-length', 0))\n",
    "\n",
    "        with open(local_filename, 'wb') as f:\n",
    "            with tqdm(total=total_size, unit='B', unit_scale=True, desc=os.path.basename(local_filename)) as pbar:\n",
    "                for chunk in response.iter_content(chunk_size=chunk_size):\n",
    "                    f.write(chunk)\n",
    "                    pbar.update(len(chunk))\n",
    "\n",
    "# 각 파일을 스트리밍 방식으로 다운로드\n",
    "for file in files:\n",
    "    url = f'{base_url}{file}'\n",
    "    local_path = f'datas/{file}'\n",
    "    download_file_streaming(url, local_path)\n"
   ],
   "id": "e74106ad8462dee8",
   "outputs": [
    {
     "name": "stderr",
     "output_type": "stream",
     "text": [
      "train.parquet: 100%|██████████| 450M/450M [00:41<00:00, 10.9MB/s] \n",
      "test.parquet: 100%|██████████| 7.23M/7.23M [00:01<00:00, 6.39MB/s]\n",
      "neighbors.parquet: 100%|██████████| 2.97M/2.97M [00:00<00:00, 3.60MB/s]\n"
     ]
    }
   ],
   "execution_count": 60
  },
  {
   "metadata": {
    "ExecuteTime": {
     "end_time": "2025-09-22T16:27:08.770072Z",
     "start_time": "2025-09-22T16:27:06.797598Z"
    }
   },
   "cell_type": "code",
   "source": [
    "import pandas as pd\n",
    "train_df = pd.read_parquet('datas/train.parquet')\n",
    "test_df = pd.read_parquet('datas/test.parquet')\n",
    "neighbors_df = pd.read_parquet('datas/neighbors.parquet')\n"
   ],
   "id": "457e19cdc3fd90ed",
   "outputs": [],
   "execution_count": 2
  },
  {
   "metadata": {
    "ExecuteTime": {
     "end_time": "2025-09-22T16:27:39.645567Z",
     "start_time": "2025-09-22T16:27:39.640455Z"
    }
   },
   "cell_type": "code",
   "source": [
    "vector_size = len(train_df.iloc[0]['emb'])\n",
    "\n",
    "vector_size"
   ],
   "id": "648d85408bb99e2a",
   "outputs": [
    {
     "data": {
      "text/plain": [
       "1536"
      ]
     },
     "execution_count": 6,
     "metadata": {},
     "output_type": "execute_result"
    }
   ],
   "execution_count": 6
  },
  {
   "metadata": {
    "ExecuteTime": {
     "end_time": "2025-09-22T16:56:49.955022Z",
     "start_time": "2025-09-22T16:56:49.934918Z"
    }
   },
   "cell_type": "code",
   "source": [
    "from src.databases.pgvector_database import PgVectorDatabase\n",
    "pgvector = PgVectorDatabase()\n"
   ],
   "id": "145ae4ba481cb470",
   "outputs": [
    {
     "ename": "TypeError",
     "evalue": "Can't instantiate abstract class PgVectorDatabase without an implementation for abstract methods 'get_neighbors', 'insert_batch'",
     "output_type": "error",
     "traceback": [
      "\u001B[31m---------------------------------------------------------------------------\u001B[39m",
      "\u001B[31mTypeError\u001B[39m                                 Traceback (most recent call last)",
      "\u001B[36mCell\u001B[39m\u001B[36m \u001B[39m\u001B[32mIn[50]\u001B[39m\u001B[32m, line 2\u001B[39m\n\u001B[32m      1\u001B[39m \u001B[38;5;28;01mfrom\u001B[39;00m\u001B[38;5;250m \u001B[39m\u001B[34;01msrc\u001B[39;00m\u001B[34;01m.\u001B[39;00m\u001B[34;01mdatabases\u001B[39;00m\u001B[34;01m.\u001B[39;00m\u001B[34;01mpgvector_database\u001B[39;00m\u001B[38;5;250m \u001B[39m\u001B[38;5;28;01mimport\u001B[39;00m PgVectorDatabase\n\u001B[32m----> \u001B[39m\u001B[32m2\u001B[39m pgvector = \u001B[43mPgVectorDatabase\u001B[49m\u001B[43m(\u001B[49m\u001B[43m)\u001B[49m\n",
      "\u001B[31mTypeError\u001B[39m: Can't instantiate abstract class PgVectorDatabase without an implementation for abstract methods 'get_neighbors', 'insert_batch'"
     ]
    }
   ],
   "execution_count": 50
  },
  {
   "metadata": {
    "ExecuteTime": {
     "end_time": "2025-09-22T16:34:43.570971Z",
     "start_time": "2025-09-22T16:31:44.044230Z"
    }
   },
   "cell_type": "code",
   "source": [
    "with conn.cursor() as cur:\n",
    "    total = len(train_df)\n",
    "    batch_size = 100\n",
    "\n",
    "    i = 0\n",
    "    for start in tqdm(range(0, total, batch_size)):\n",
    "        end = min(start + batch_size, total)\n",
    "        datas = train_df.iloc[start:end]\n",
    "\n",
    "        rows = [[row['id'], row['emb'].tolist()] for _, row in datas.iterrows()]\n",
    "\n",
    "        execute_values(\n",
    "            cur,\n",
    "            \"INSERT INTO items (idx, emb) VALUES %s\",\n",
    "            rows,\n",
    "            # page_size=1000\n",
    "        )\n",
    "    conn.commit()"
   ],
   "id": "e9c67fdcba3be83d",
   "outputs": [
    {
     "name": "stderr",
     "output_type": "stream",
     "text": [
      "100%|██████████| 500/500 [02:59<00:00,  2.79it/s]\n"
     ]
    }
   ],
   "execution_count": 17
  },
  {
   "metadata": {
    "ExecuteTime": {
     "end_time": "2025-09-21T23:08:42.174154Z",
     "start_time": "2025-09-21T23:05:21.645789Z"
    }
   },
   "cell_type": "code",
   "source": [
    "with conn.cursor() as cur:\n",
    "    cur.execute(\"\"\"CREATE INDEX IF NOT EXISTS idx_items_emb_hnsw\n",
    "ON items USING hnsw (emb vector_ip_ops)\n",
    "\n",
    "    \"\"\")"
   ],
   "id": "e3e1256c3d40f40f",
   "outputs": [],
   "execution_count": 7
  },
  {
   "metadata": {
    "ExecuteTime": {
     "end_time": "2025-09-22T15:32:53.367793Z",
     "start_time": "2025-09-22T15:32:53.364280Z"
    }
   },
   "cell_type": "code",
   "outputs": [],
   "execution_count": 41,
   "source": [
    "with conn.cursor() as cur:\n",
    "    cur.execute(\"\"\"DROP INDEX IF EXISTS idx_items_emb_ivf;\n",
    "    \"\"\")"
   ],
   "id": "59d7b6ba93ffe4d2"
  },
  {
   "metadata": {
    "ExecuteTime": {
     "end_time": "2025-09-22T16:39:32.749933Z",
     "start_time": "2025-09-22T16:39:32.487163Z"
    }
   },
   "cell_type": "code",
   "source": [
    "qvec = test_df.iloc[0]['emb']\n",
    "qvec_str = \"[\" + \",\".join(str(x) for x in qvec) + \"]\"\n",
    "# 질의 실행 (IP 기준 Top-10)\n",
    "with conn.cursor() as cur:\n",
    "    conn.rollback()\n",
    "    cur.execute(\"\"\"\n",
    "        WITH q AS (SELECT %s::vector AS qvec)\n",
    "        SELECT idx, 1 - (emb <=> qvec) AS cosine_similarity\n",
    "        FROM items, q\n",
    "        ORDER BY cosine_similarity DESC\n",
    "        LIMIT 10;\n",
    "    \"\"\", (qvec_str,))\n",
    "    rows = cur.fetchall()\n",
    "\n",
    "# 결과 출력\n",
    "for idx in rows:\n",
    "    print(idx)\n"
   ],
   "id": "db8544d83f85385b",
   "outputs": [
    {
     "name": "stdout",
     "output_type": "stream",
     "text": [
      "(29152, 0.832929645987465)\n",
      "(38010, 0.8296425837065462)\n",
      "(33080, 0.8239479660987913)\n",
      "(39351, 0.8124869950108059)\n",
      "(34795, 0.8095730287600122)\n",
      "(32404, 0.8080579271247473)\n",
      "(43000, 0.807055461827259)\n",
      "(20162, 0.8023113012313899)\n",
      "(15513, 0.800404465186466)\n",
      "(2913, 0.8000502586364803)\n"
     ]
    }
   ],
   "execution_count": 44
  },
  {
   "metadata": {
    "ExecuteTime": {
     "end_time": "2025-09-22T16:35:42.664820Z",
     "start_time": "2025-09-22T16:35:42.660357Z"
    }
   },
   "cell_type": "code",
   "source": "neighbors_df.iloc[0]",
   "id": "c02b34476d194e6d",
   "outputs": [
    {
     "data": {
      "text/plain": [
       "id                                                              0\n",
       "neighbors_id    [29152, 38010, 33080, 39351, 34795, 32404, 430...\n",
       "Name: 0, dtype: object"
      ]
     },
     "execution_count": 28,
     "metadata": {},
     "output_type": "execute_result"
    }
   ],
   "execution_count": 28
  },
  {
   "metadata": {},
   "cell_type": "code",
   "outputs": [],
   "execution_count": null,
   "source": "",
   "id": "397db0d3565265cb"
  },
  {
   "metadata": {
    "ExecuteTime": {
     "end_time": "2025-09-22T16:44:13.072533Z",
     "start_time": "2025-09-22T16:43:46.372665Z"
    }
   },
   "cell_type": "code",
   "source": [
    "for id in range(len(test_df)):\n",
    "    emb = test_df.iloc[id]['emb']\n",
    "    qvec_str = \"[\" + \",\".join(str(x) for x in qvec) + \"]\"\n",
    "\n",
    "    with conn.cursor() as cur:\n",
    "        conn.rollback()\n",
    "        cur.execute(\"\"\"\n",
    "            WITH q AS (SELECT %s::vector AS qvec)\n",
    "            SELECT idx, 1 - (emb <=> qvec) AS cosine_similarity\n",
    "            FROM items, q\n",
    "            ORDER BY cosine_similarity DESC\n",
    "            LIMIT 10;\n",
    "        \"\"\", (qvec_str,))\n",
    "        rows = cur.fetchall()\n",
    "\n"
   ],
   "id": "ff49fd053d63ea99",
   "outputs": [
    {
     "ename": "KeyboardInterrupt",
     "evalue": "",
     "output_type": "error",
     "traceback": [
      "\u001B[31m---------------------------------------------------------------------------\u001B[39m",
      "\u001B[31mKeyboardInterrupt\u001B[39m                         Traceback (most recent call last)",
      "\u001B[36mCell\u001B[39m\u001B[36m \u001B[39m\u001B[32mIn[47]\u001B[39m\u001B[32m, line 7\u001B[39m\n\u001B[32m      5\u001B[39m \u001B[38;5;28;01mwith\u001B[39;00m conn.cursor() \u001B[38;5;28;01mas\u001B[39;00m cur:\n\u001B[32m      6\u001B[39m     conn.rollback()\n\u001B[32m----> \u001B[39m\u001B[32m7\u001B[39m     \u001B[43mcur\u001B[49m\u001B[43m.\u001B[49m\u001B[43mexecute\u001B[49m\u001B[43m(\u001B[49m\u001B[33;43m\"\"\"\u001B[39;49m\n\u001B[32m      8\u001B[39m \u001B[33;43m        WITH q AS (SELECT \u001B[39;49m\u001B[38;5;132;43;01m%s\u001B[39;49;00m\u001B[33;43m::vector AS qvec)\u001B[39;49m\n\u001B[32m      9\u001B[39m \u001B[33;43m        SELECT idx, 1 - (emb <=> qvec) AS cosine_similarity\u001B[39;49m\n\u001B[32m     10\u001B[39m \u001B[33;43m        FROM items, q\u001B[39;49m\n\u001B[32m     11\u001B[39m \u001B[33;43m        ORDER BY cosine_similarity DESC\u001B[39;49m\n\u001B[32m     12\u001B[39m \u001B[33;43m        LIMIT 10;\u001B[39;49m\n\u001B[32m     13\u001B[39m \u001B[33;43m    \u001B[39;49m\u001B[33;43m\"\"\"\u001B[39;49m\u001B[43m,\u001B[49m\u001B[43m \u001B[49m\u001B[43m(\u001B[49m\u001B[43mqvec_str\u001B[49m\u001B[43m,\u001B[49m\u001B[43m)\u001B[49m\u001B[43m)\u001B[49m\n\u001B[32m     14\u001B[39m     rows = cur.fetchall()\n",
      "\u001B[36mFile \u001B[39m\u001B[32m~\\anaconda3\\envs\\vector-db-performance-test\\Lib\\encodings\\utf_8.py:15\u001B[39m, in \u001B[36mdecode\u001B[39m\u001B[34m(input, errors)\u001B[39m\n\u001B[32m     11\u001B[39m \u001B[38;5;66;03m### Codec APIs\u001B[39;00m\n\u001B[32m     13\u001B[39m encode = codecs.utf_8_encode\n\u001B[32m---> \u001B[39m\u001B[32m15\u001B[39m \u001B[38;5;28;01mdef\u001B[39;00m\u001B[38;5;250m \u001B[39m\u001B[34mdecode\u001B[39m(\u001B[38;5;28minput\u001B[39m, errors=\u001B[33m'\u001B[39m\u001B[33mstrict\u001B[39m\u001B[33m'\u001B[39m):\n\u001B[32m     16\u001B[39m     \u001B[38;5;28;01mreturn\u001B[39;00m codecs.utf_8_decode(\u001B[38;5;28minput\u001B[39m, errors, \u001B[38;5;28;01mTrue\u001B[39;00m)\n\u001B[32m     18\u001B[39m \u001B[38;5;28;01mclass\u001B[39;00m\u001B[38;5;250m \u001B[39m\u001B[34;01mIncrementalEncoder\u001B[39;00m(codecs.IncrementalEncoder):\n",
      "\u001B[31mKeyboardInterrupt\u001B[39m: "
     ]
    }
   ],
   "execution_count": 47
  },
  {
   "metadata": {},
   "cell_type": "code",
   "outputs": [],
   "execution_count": null,
   "source": [
    "from datasets import load_dataset\n",
    "\n",
    "self.dataset = load_dataset(\"open-vdb/gist-960-euclidean\", 'train')['train']\n",
    "\n"
   ],
   "id": "dbad723354f3685a"
  }
 ],
 "metadata": {
  "kernelspec": {
   "display_name": "Python 3 (ipykernel)",
   "language": "python",
   "name": "python3"
  },
  "language_info": {
   "codemirror_mode": {
    "name": "ipython",
    "version": 3
   },
   "file_extension": ".py",
   "mimetype": "text/x-python",
   "name": "python",
   "nbconvert_exporter": "python",
   "pygments_lexer": "ipython3",
   "version": "3.13.5"
  }
 },
 "nbformat": 4,
 "nbformat_minor": 5
}

{
 "cells": [
  {
   "metadata": {
    "ExecuteTime": {
     "end_time": "2025-09-24T04:29:36.938597Z",
     "start_time": "2025-09-24T04:29:32.232292Z"
    }
   },
   "cell_type": "code",
   "source": [
    "from src.databases.pgvector_database import PgVectorDatabase\n",
    "from src.datasets.service.openai_small_dataset import OpenAISmallDataset\n",
    "from src.file_downloader.file_download_impl import FileDownloaderImpl\n",
    "from src.datasets.utils import tqdm_with_dataset\n",
    "\n",
    "def recall(ground_truth_neighbors, predicted_neighbors):\n",
    "    return len(set(ground_truth_neighbors).intersection(set(predicted_neighbors))) / len(ground_truth_neighbors)\n",
    "\n",
    "pgvector = PgVectorDatabase()\n",
    "pgvector.start(reset=True)"
   ],
   "id": "457e19cdc3fd90ed",
   "outputs": [],
   "execution_count": 1
  },
  {
   "metadata": {
    "ExecuteTime": {
     "end_time": "2025-09-24T04:29:38.688545Z",
     "start_time": "2025-09-24T04:29:36.943143Z"
    }
   },
   "cell_type": "code",
   "source": [
    "file_downloader = FileDownloaderImpl()\n",
    "dataset = OpenAISmallDataset(file_downloader)"
   ],
   "id": "68db1b879627d16c",
   "outputs": [],
   "execution_count": 2
  },
  {
   "metadata": {
    "ExecuteTime": {
     "end_time": "2025-09-24T04:29:38.786279Z",
     "start_time": "2025-09-24T04:29:38.762534Z"
    }
   },
   "cell_type": "code",
   "source": "pgvector.create_table(dataset.get_vector_size())",
   "id": "489926c52b7babef",
   "outputs": [],
   "execution_count": 3
  },
  {
   "metadata": {
    "ExecuteTime": {
     "end_time": "2025-09-24T04:33:09.116517Z",
     "start_time": "2025-09-24T04:29:51.498108Z"
    }
   },
   "cell_type": "code",
   "source": [
    "for documents in tqdm_with_dataset(dataset, 'train'):\n",
    "    pgvector.insert_batch(documents)"
   ],
   "id": "19b9fe162bfa69d3",
   "outputs": [
    {
     "name": "stderr",
     "output_type": "stream",
     "text": [
      "100%|██████████| 50000/50000 [03:17<00:00, 253.02it/s]\n"
     ]
    }
   ],
   "execution_count": 6
  },
  {
   "metadata": {
    "ExecuteTime": {
     "end_time": "2025-09-24T04:52:22.544660Z",
     "start_time": "2025-09-24T04:52:22.539561Z"
    }
   },
   "cell_type": "code",
   "source": [
    "def test():\n",
    "    scores = {}\n",
    "\n",
    "    for k in [1, 5]:\n",
    "        scores[k] = 0\n",
    "        print(f\"Recall@{k}\")\n",
    "        for documents in tqdm_with_dataset(dataset, 'test', batch_size=10):\n",
    "            for document in documents:\n",
    "                predicted_neighbors = pgvector.get_neighbors(document.embedding, k)\n",
    "                scores[k] += recall(document.neighbors[:k], predicted_neighbors)\n",
    "        scores[k] /= dataset.get_length_of_test()\n",
    "    return scores"
   ],
   "id": "44a51adf516378b4",
   "outputs": [],
   "execution_count": 16
  },
  {
   "metadata": {
    "ExecuteTime": {
     "end_time": "2025-09-24T05:00:02.363872Z",
     "start_time": "2025-09-24T04:52:25.943844Z"
    }
   },
   "cell_type": "code",
   "source": [
    "# 인덱스가 없을때 KNN 기반의 정확 검색을 테스트하고, 대략적인 속도와 Recall 수치(=1)을 확인\n",
    "test_result1 = test()\n",
    "test_result1"
   ],
   "id": "695376f72858431c",
   "outputs": [
    {
     "name": "stdout",
     "output_type": "stream",
     "text": [
      "Recall@1\n"
     ]
    },
    {
     "name": "stderr",
     "output_type": "stream",
     "text": [
      "100%|██████████| 1000/1000 [03:48<00:00,  4.37it/s]\n"
     ]
    },
    {
     "name": "stdout",
     "output_type": "stream",
     "text": [
      "Recall@5\n"
     ]
    },
    {
     "name": "stderr",
     "output_type": "stream",
     "text": [
      "100%|██████████| 1000/1000 [03:47<00:00,  4.39it/s]\n"
     ]
    },
    {
     "data": {
      "text/plain": [
       "{1: 1.0, 5: 1.0}"
      ]
     },
     "execution_count": 17,
     "metadata": {},
     "output_type": "execute_result"
    }
   ],
   "execution_count": 17
  },
  {
   "metadata": {
    "ExecuteTime": {
     "end_time": "2025-09-24T05:03:39.819591Z",
     "start_time": "2025-09-24T05:00:50.709372Z"
    }
   },
   "cell_type": "code",
   "source": [
    "# 인덱스 생성 요청\n",
    "from src.databases.indexes.hnsw_index import HNSWIndex\n",
    "from src.databases.indexes.distance import Distance\n",
    "pgvector.create_index(HNSWIndex(distance_metric=Distance.COSINE))"
   ],
   "id": "806575d46a0ece9",
   "outputs": [],
   "execution_count": 20
  },
  {
   "metadata": {
    "ExecuteTime": {
     "end_time": "2025-09-24T05:15:00.072438Z",
     "start_time": "2025-09-24T05:03:51.154282Z"
    }
   },
   "cell_type": "code",
   "source": [
    "# ef_search 값은 HNSW 알고리즘이 벡터를 탐색할 때 최종 레이어에서 몇개의 후보를 확인 예정인지를 의미합니다.\n",
    "# 만약 이 값이 K보다 작은 경우, 반환할 수 있는 노드 수 자체가 부족하기 때문에 Recall은 급격하게 감소할 것으로 예상합니다.\n",
    "# 이 값이 커질수록 더 많은 노드를 확인 후 정렬된 순서를 반환하기 때문에 Recall 수치가 증가해야합니다.\n",
    "# 인덱스가 잘 구성되어있다는 가정 하에 어느 선 이상부터는 Recall 수치의 변화가 적을 것으로 예상합니다.\n",
    "result = {}\n",
    "for ef_search in [3, 5, 10, 20, 30, 40, 50]:\n",
    "    pgvector.set_ef_search(ef_search)\n",
    "    scores = test()\n",
    "    result[ef_search] = scores\n",
    "    print(ef_search, scores)"
   ],
   "id": "56fad72df6d7de82",
   "outputs": [
    {
     "name": "stdout",
     "output_type": "stream",
     "text": [
      "Recall@1\n"
     ]
    },
    {
     "name": "stderr",
     "output_type": "stream",
     "text": [
      "100%|██████████| 1000/1000 [00:46<00:00, 21.59it/s]\n"
     ]
    },
    {
     "name": "stdout",
     "output_type": "stream",
     "text": [
      "Recall@5\n"
     ]
    },
    {
     "name": "stderr",
     "output_type": "stream",
     "text": [
      "100%|██████████| 1000/1000 [00:47<00:00, 21.23it/s]\n"
     ]
    },
    {
     "name": "stdout",
     "output_type": "stream",
     "text": [
      "3 {1: 0.722, 5: 0.4952000000000054}\n",
      "Recall@1\n"
     ]
    },
    {
     "name": "stderr",
     "output_type": "stream",
     "text": [
      "100%|██████████| 1000/1000 [00:47<00:00, 21.23it/s]\n"
     ]
    },
    {
     "name": "stdout",
     "output_type": "stream",
     "text": [
      "Recall@5\n"
     ]
    },
    {
     "name": "stderr",
     "output_type": "stream",
     "text": [
      "100%|██████████| 1000/1000 [00:45<00:00, 21.97it/s]\n"
     ]
    },
    {
     "name": "stdout",
     "output_type": "stream",
     "text": [
      "5 {1: 0.824, 5: 0.7867999999999986}\n",
      "Recall@1\n"
     ]
    },
    {
     "name": "stderr",
     "output_type": "stream",
     "text": [
      "100%|██████████| 1000/1000 [00:45<00:00, 21.86it/s]\n"
     ]
    },
    {
     "name": "stdout",
     "output_type": "stream",
     "text": [
      "Recall@5\n"
     ]
    },
    {
     "name": "stderr",
     "output_type": "stream",
     "text": [
      "100%|██████████| 1000/1000 [00:47<00:00, 21.14it/s]\n"
     ]
    },
    {
     "name": "stdout",
     "output_type": "stream",
     "text": [
      "10 {1: 0.92, 5: 0.8905999999999976}\n",
      "Recall@1\n"
     ]
    },
    {
     "name": "stderr",
     "output_type": "stream",
     "text": [
      "100%|██████████| 1000/1000 [00:48<00:00, 20.78it/s]\n"
     ]
    },
    {
     "name": "stdout",
     "output_type": "stream",
     "text": [
      "Recall@5\n"
     ]
    },
    {
     "name": "stderr",
     "output_type": "stream",
     "text": [
      "100%|██████████| 1000/1000 [00:46<00:00, 21.33it/s]\n"
     ]
    },
    {
     "name": "stdout",
     "output_type": "stream",
     "text": [
      "20 {1: 0.967, 5: 0.9447999999999988}\n",
      "Recall@1\n"
     ]
    },
    {
     "name": "stderr",
     "output_type": "stream",
     "text": [
      "100%|██████████| 1000/1000 [00:46<00:00, 21.30it/s]\n"
     ]
    },
    {
     "name": "stdout",
     "output_type": "stream",
     "text": [
      "Recall@5\n"
     ]
    },
    {
     "name": "stderr",
     "output_type": "stream",
     "text": [
      "100%|██████████| 1000/1000 [00:47<00:00, 21.15it/s]\n"
     ]
    },
    {
     "name": "stdout",
     "output_type": "stream",
     "text": [
      "30 {1: 0.986, 5: 0.9699999999999989}\n",
      "Recall@1\n"
     ]
    },
    {
     "name": "stderr",
     "output_type": "stream",
     "text": [
      "100%|██████████| 1000/1000 [00:48<00:00, 20.71it/s]\n"
     ]
    },
    {
     "name": "stdout",
     "output_type": "stream",
     "text": [
      "Recall@5\n"
     ]
    },
    {
     "name": "stderr",
     "output_type": "stream",
     "text": [
      "100%|██████████| 1000/1000 [00:48<00:00, 20.55it/s]\n"
     ]
    },
    {
     "name": "stdout",
     "output_type": "stream",
     "text": [
      "40 {1: 0.99, 5: 0.9787999999999987}\n",
      "Recall@1\n"
     ]
    },
    {
     "name": "stderr",
     "output_type": "stream",
     "text": [
      "100%|██████████| 1000/1000 [00:53<00:00, 18.74it/s]\n"
     ]
    },
    {
     "name": "stdout",
     "output_type": "stream",
     "text": [
      "Recall@5\n"
     ]
    },
    {
     "name": "stderr",
     "output_type": "stream",
     "text": [
      "100%|██████████| 1000/1000 [00:50<00:00, 19.90it/s]"
     ]
    },
    {
     "name": "stdout",
     "output_type": "stream",
     "text": [
      "50 {1: 0.992, 5: 0.9859999999999989}\n"
     ]
    },
    {
     "name": "stderr",
     "output_type": "stream",
     "text": [
      "\n"
     ]
    }
   ],
   "execution_count": 21
  },
  {
   "metadata": {
    "ExecuteTime": {
     "end_time": "2025-09-24T05:19:05.406179Z",
     "start_time": "2025-09-24T05:19:05.255416Z"
    }
   },
   "cell_type": "code",
   "source": [
    "import matplotlib.pyplot as plt\n",
    "plt.rc('font', family='KoPubDotum Medium')\n",
    "\n",
    "ef_search = list(result.keys())\n",
    "k1 = [result[k][1] for k in ef_search]\n",
    "k5 = [result[k][5] for k in ef_search]\n",
    "\n",
    "plt.plot(ef_search, k1, marker='o', label='k=1')\n",
    "plt.plot(ef_search, k5, marker='s', label='k=5')\n",
    "\n",
    "plt.xlabel('ef_search')\n",
    "plt.ylabel('Recall')\n",
    "plt.title('ef_search 값에 따른 Recall 변화')\n",
    "plt.legend()\n",
    "plt.grid(True)\n",
    "plt.show()"
   ],
   "id": "37dba85f27955bea",
   "outputs": [
    {
     "data": {
      "text/plain": [
       "<Figure size 640x480 with 1 Axes>"
      ],
      "image/png": "[encoded data removed]"
     },
     "metadata": {},
     "output_type": "display_data",
     "jetTransient": {
      "display_id": null
     }
    }
   ],
   "execution_count": 30
  },
  {
   "metadata": {},
   "cell_type": "code",
   "outputs": [],
   "execution_count": null,
   "source": "",
   "id": "838bba4ce652baee"
  }
 ],
 "metadata": {
  "kernelspec": {
   "display_name": "Python 3 (ipykernel)",
   "language": "python",
   "name": "python3"
  },
  "language_info": {
   "codemirror_mode": {
    "name": "ipython",
    "version": 3
   },
   "file_extension": ".py",
   "mimetype": "text/x-python",
   "name": "python",
   "nbconvert_exporter": "python",
   "pygments_lexer": "ipython3",
   "version": "3.13.5"
  }
 },
 "nbformat": 4,
 "nbformat_minor": 5
}

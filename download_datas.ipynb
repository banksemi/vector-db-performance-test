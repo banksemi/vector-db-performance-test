{
 "cells": [
  {
   "cell_type": "code",
   "id": "initial_id",
   "metadata": {
    "collapsed": true,
    "ExecuteTime": {
     "end_time": "2025-09-23T04:44:33.154104Z",
     "start_time": "2025-09-23T04:43:54.431842Z"
    }
   },
   "source": [
    "import requests\n",
    "import os\n",
    "from tqdm import tqdm\n",
    "# self.dataset = load_dataset(\"open-vdb/gist-960-euclidean\", 'train')['train']\n",
    "base_url=\"https://assets.zilliz.com/benchmark/openai_small_50k/\"\n",
    "files = ['train.parquet', 'test.parquet', 'neighbors.parquet']\n",
    "\n",
    "os.makedirs('datas', exist_ok=True)\n",
    "def download_file_streaming(url, local_filename, chunk_size=8192):\n",
    "    with requests.get(url, stream=True) as response:\n",
    "        response.raise_for_status()\n",
    "\n",
    "        total_size = int(response.headers.get('content-length', 0))\n",
    "\n",
    "        with open(local_filename, 'wb') as f:\n",
    "            with tqdm(total=total_size, unit='B', unit_scale=True, desc=os.path.basename(local_filename)) as pbar:\n",
    "                for chunk in response.iter_content(chunk_size=chunk_size):\n",
    "                    f.write(chunk)\n",
    "                    pbar.update(len(chunk))\n",
    "\n",
    "for file in files:\n",
    "    url = f'{base_url}{file}'\n",
    "    local_path = f'datas/{file}'\n",
    "    download_file_streaming(url, local_path)\n"
   ],
   "outputs": [
    {
     "name": "stderr",
     "output_type": "stream",
     "text": [
      "train.parquet: 100%|██████████| 450M/450M [00:36<00:00, 12.2MB/s] \n",
      "test.parquet: 100%|██████████| 7.23M/7.23M [00:00<00:00, 12.4MB/s]\n",
      "neighbors.parquet: 100%|██████████| 2.97M/2.97M [00:00<00:00, 12.3MB/s]\n"
     ]
    }
   ],
   "execution_count": 1
  },
  {
   "metadata": {},
   "cell_type": "code",
   "outputs": [],
   "execution_count": null,
   "source": "",
   "id": "eb16967bdeb4e1ee"
  }
 ],
 "metadata": {
  "kernelspec": {
   "display_name": "Python 3",
   "language": "python",
   "name": "python3"
  },
  "language_info": {
   "codemirror_mode": {
    "name": "ipython",
    "version": 2
   },
   "file_extension": ".py",
   "mimetype": "text/x-python",
   "name": "python",
   "nbconvert_exporter": "python",
   "pygments_lexer": "ipython2",
   "version": "2.7.6"
  }
 },
 "nbformat": 4,
 "nbformat_minor": 5
}

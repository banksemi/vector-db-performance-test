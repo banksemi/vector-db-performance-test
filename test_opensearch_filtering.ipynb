{
 "cells": [
  {
   "metadata": {
    "ExecuteTime": {
     "end_time": "2025-09-25T08:18:25.112354Z",
     "start_time": "2025-09-25T08:18:23.484509Z"
    }
   },
   "cell_type": "code",
   "source": [
    "from src.databases.indexes.hnsw_index import HNSWIndex\n",
    "from src.databases.opensearch_database import OpenSearchDatabase\n",
    "from src.datasets.utils import tqdm_with_dataset\n",
    "database = OpenSearchDatabase()\n",
    "database.start(reset=False)"
   ],
   "id": "167a7dd653dee9c6",
   "outputs": [],
   "execution_count": 1
  },
  {
   "metadata": {
    "ExecuteTime": {
     "end_time": "2025-09-25T08:18:34.245044Z",
     "start_time": "2025-09-25T08:18:34.240925Z"
    }
   },
   "cell_type": "code",
   "source": "database.create_table(1024)",
   "id": "173ca25c9a00794c",
   "outputs": [],
   "execution_count": 2
  },
  {
   "metadata": {
    "ExecuteTime": {
     "end_time": "2025-09-25T08:19:25.867642Z",
     "start_time": "2025-09-25T08:19:25.686763Z"
    }
   },
   "cell_type": "code",
   "source": [
    "from src.databases.indexes.hnsw_index import HNSWIndex\n",
    "from src.databases.indexes.distance import Distance\n",
    "database.create_index(HNSWIndex(distance_metric=Distance.COSINE))"
   ],
   "id": "c5939b345caa0d95",
   "outputs": [
    {
     "ename": "RequestError",
     "evalue": "RequestError(400, 'resource_already_exists_exception', 'index [index1/V9yK1iW3SgWNUDcGM8HIbQ] already exists')",
     "output_type": "error",
     "traceback": [
      "\u001B[31m---------------------------------------------------------------------------\u001B[39m",
      "\u001B[31mRequestError\u001B[39m                              Traceback (most recent call last)",
      "\u001B[36mCell\u001B[39m\u001B[36m \u001B[39m\u001B[32mIn[6]\u001B[39m\u001B[32m, line 3\u001B[39m\n\u001B[32m      1\u001B[39m \u001B[38;5;28;01mfrom\u001B[39;00m\u001B[38;5;250m \u001B[39m\u001B[34;01msrc\u001B[39;00m\u001B[34;01m.\u001B[39;00m\u001B[34;01mdatabases\u001B[39;00m\u001B[34;01m.\u001B[39;00m\u001B[34;01mindexes\u001B[39;00m\u001B[34;01m.\u001B[39;00m\u001B[34;01mhnsw_index\u001B[39;00m\u001B[38;5;250m \u001B[39m\u001B[38;5;28;01mimport\u001B[39;00m HNSWIndex\n\u001B[32m      2\u001B[39m \u001B[38;5;28;01mfrom\u001B[39;00m\u001B[38;5;250m \u001B[39m\u001B[34;01msrc\u001B[39;00m\u001B[34;01m.\u001B[39;00m\u001B[34;01mdatabases\u001B[39;00m\u001B[34;01m.\u001B[39;00m\u001B[34;01mindexes\u001B[39;00m\u001B[34;01m.\u001B[39;00m\u001B[34;01mdistance\u001B[39;00m\u001B[38;5;250m \u001B[39m\u001B[38;5;28;01mimport\u001B[39;00m Distance\n\u001B[32m----> \u001B[39m\u001B[32m3\u001B[39m \u001B[43mdatabase\u001B[49m\u001B[43m.\u001B[49m\u001B[43mcreate_index\u001B[49m\u001B[43m(\u001B[49m\u001B[43mHNSWIndex\u001B[49m\u001B[43m(\u001B[49m\u001B[43mdistance_metric\u001B[49m\u001B[43m=\u001B[49m\u001B[43mDistance\u001B[49m\u001B[43m.\u001B[49m\u001B[43mCOSINE\u001B[49m\u001B[43m)\u001B[49m\u001B[43m)\u001B[49m\n",
      "\u001B[36mFile \u001B[39m\u001B[32m~\\OneDrive\\바탕 화면\\vector-db-performance-test\\src\\databases\\opensearch_database.py:48\u001B[39m, in \u001B[36mOpenSearchDatabase.create_index\u001B[39m\u001B[34m(self, index)\u001B[39m\n\u001B[32m     22\u001B[39m \u001B[38;5;28;01mdef\u001B[39;00m\u001B[38;5;250m \u001B[39m\u001B[34mcreate_index\u001B[39m(\u001B[38;5;28mself\u001B[39m, index: Index):\n\u001B[32m     23\u001B[39m     mapping = {\n\u001B[32m     24\u001B[39m         \u001B[33m\"\u001B[39m\u001B[33mmappings\u001B[39m\u001B[33m\"\u001B[39m: {\n\u001B[32m     25\u001B[39m             \u001B[33m\"\u001B[39m\u001B[33mproperties\u001B[39m\u001B[33m\"\u001B[39m: {\n\u001B[32m   (...)\u001B[39m\u001B[32m     45\u001B[39m         }\n\u001B[32m     46\u001B[39m     }\n\u001B[32m---> \u001B[39m\u001B[32m48\u001B[39m     \u001B[38;5;28;43mself\u001B[39;49m\u001B[43m.\u001B[49m\u001B[43m_client\u001B[49m\u001B[43m.\u001B[49m\u001B[43mindices\u001B[49m\u001B[43m.\u001B[49m\u001B[43mcreate\u001B[49m\u001B[43m(\u001B[49m\u001B[43mindex\u001B[49m\u001B[43m=\u001B[49m\u001B[33;43m'\u001B[39;49m\u001B[33;43mindex1\u001B[39;49m\u001B[33;43m'\u001B[39;49m\u001B[43m,\u001B[49m\u001B[43m \u001B[49m\u001B[43mbody\u001B[49m\u001B[43m=\u001B[49m\u001B[43mmapping\u001B[49m\u001B[43m)\u001B[49m\n",
      "\u001B[36mFile \u001B[39m\u001B[32m~\\anaconda3\\envs\\vector-db-performance-test\\Lib\\site-packages\\opensearchpy\\client\\utils.py:176\u001B[39m, in \u001B[36mquery_params.<locals>._wrapper.<locals>._wrapped\u001B[39m\u001B[34m(*args, **kwargs)\u001B[39m\n\u001B[32m    173\u001B[39m         \u001B[38;5;28;01mif\u001B[39;00m v \u001B[38;5;129;01mis\u001B[39;00m \u001B[38;5;129;01mnot\u001B[39;00m \u001B[38;5;28;01mNone\u001B[39;00m:\n\u001B[32m    174\u001B[39m             params[p] = _escape(v)\n\u001B[32m--> \u001B[39m\u001B[32m176\u001B[39m \u001B[38;5;28;01mreturn\u001B[39;00m \u001B[43mfunc\u001B[49m\u001B[43m(\u001B[49m\u001B[43m*\u001B[49m\u001B[43margs\u001B[49m\u001B[43m,\u001B[49m\u001B[43m \u001B[49m\u001B[43mparams\u001B[49m\u001B[43m=\u001B[49m\u001B[43mparams\u001B[49m\u001B[43m,\u001B[49m\u001B[43m \u001B[49m\u001B[43mheaders\u001B[49m\u001B[43m=\u001B[49m\u001B[43mheaders\u001B[49m\u001B[43m,\u001B[49m\u001B[43m \u001B[49m\u001B[43m*\u001B[49m\u001B[43m*\u001B[49m\u001B[43mkwargs\u001B[49m\u001B[43m)\u001B[49m\n",
      "\u001B[36mFile \u001B[39m\u001B[32m~\\anaconda3\\envs\\vector-db-performance-test\\Lib\\site-packages\\opensearchpy\\client\\indices.py:248\u001B[39m, in \u001B[36mIndicesClient.create\u001B[39m\u001B[34m(self, index, body, params, headers)\u001B[39m\n\u001B[32m    245\u001B[39m \u001B[38;5;28;01mif\u001B[39;00m index \u001B[38;5;129;01min\u001B[39;00m SKIP_IN_PATH:\n\u001B[32m    246\u001B[39m     \u001B[38;5;28;01mraise\u001B[39;00m \u001B[38;5;167;01mValueError\u001B[39;00m(\u001B[33m\"\u001B[39m\u001B[33mEmpty value passed for a required argument \u001B[39m\u001B[33m'\u001B[39m\u001B[33mindex\u001B[39m\u001B[33m'\u001B[39m\u001B[33m.\u001B[39m\u001B[33m\"\u001B[39m)\n\u001B[32m--> \u001B[39m\u001B[32m248\u001B[39m \u001B[38;5;28;01mreturn\u001B[39;00m \u001B[38;5;28;43mself\u001B[39;49m\u001B[43m.\u001B[49m\u001B[43mtransport\u001B[49m\u001B[43m.\u001B[49m\u001B[43mperform_request\u001B[49m\u001B[43m(\u001B[49m\n\u001B[32m    249\u001B[39m \u001B[43m    \u001B[49m\u001B[33;43m\"\u001B[39;49m\u001B[33;43mPUT\u001B[39;49m\u001B[33;43m\"\u001B[39;49m\u001B[43m,\u001B[49m\u001B[43m \u001B[49m\u001B[43m_make_path\u001B[49m\u001B[43m(\u001B[49m\u001B[43mindex\u001B[49m\u001B[43m)\u001B[49m\u001B[43m,\u001B[49m\u001B[43m \u001B[49m\u001B[43mparams\u001B[49m\u001B[43m=\u001B[49m\u001B[43mparams\u001B[49m\u001B[43m,\u001B[49m\u001B[43m \u001B[49m\u001B[43mheaders\u001B[49m\u001B[43m=\u001B[49m\u001B[43mheaders\u001B[49m\u001B[43m,\u001B[49m\u001B[43m \u001B[49m\u001B[43mbody\u001B[49m\u001B[43m=\u001B[49m\u001B[43mbody\u001B[49m\n\u001B[32m    250\u001B[39m \u001B[43m\u001B[49m\u001B[43m)\u001B[49m\n",
      "\u001B[36mFile \u001B[39m\u001B[32m~\\anaconda3\\envs\\vector-db-performance-test\\Lib\\site-packages\\opensearchpy\\transport.py:457\u001B[39m, in \u001B[36mTransport.perform_request\u001B[39m\u001B[34m(self, method, url, params, body, timeout, ignore, headers)\u001B[39m\n\u001B[32m    455\u001B[39m             \u001B[38;5;28;01mraise\u001B[39;00m e\n\u001B[32m    456\u001B[39m     \u001B[38;5;28;01melse\u001B[39;00m:\n\u001B[32m--> \u001B[39m\u001B[32m457\u001B[39m         \u001B[38;5;28;01mraise\u001B[39;00m e\n\u001B[32m    459\u001B[39m \u001B[38;5;28;01melse\u001B[39;00m:\n\u001B[32m    460\u001B[39m     \u001B[38;5;66;03m# connection didn't fail, confirm its live status\u001B[39;00m\n\u001B[32m    461\u001B[39m     \u001B[38;5;28mself\u001B[39m.connection_pool.mark_live(connection)\n",
      "\u001B[36mFile \u001B[39m\u001B[32m~\\anaconda3\\envs\\vector-db-performance-test\\Lib\\site-packages\\opensearchpy\\transport.py:418\u001B[39m, in \u001B[36mTransport.perform_request\u001B[39m\u001B[34m(self, method, url, params, body, timeout, ignore, headers)\u001B[39m\n\u001B[32m    415\u001B[39m connection = \u001B[38;5;28mself\u001B[39m.get_connection()\n\u001B[32m    417\u001B[39m \u001B[38;5;28;01mtry\u001B[39;00m:\n\u001B[32m--> \u001B[39m\u001B[32m418\u001B[39m     status, headers_response, data = \u001B[43mconnection\u001B[49m\u001B[43m.\u001B[49m\u001B[43mperform_request\u001B[49m\u001B[43m(\u001B[49m\n\u001B[32m    419\u001B[39m \u001B[43m        \u001B[49m\u001B[43mmethod\u001B[49m\u001B[43m,\u001B[49m\n\u001B[32m    420\u001B[39m \u001B[43m        \u001B[49m\u001B[43murl\u001B[49m\u001B[43m,\u001B[49m\n\u001B[32m    421\u001B[39m \u001B[43m        \u001B[49m\u001B[43mparams\u001B[49m\u001B[43m,\u001B[49m\n\u001B[32m    422\u001B[39m \u001B[43m        \u001B[49m\u001B[43mbody\u001B[49m\u001B[43m,\u001B[49m\n\u001B[32m    423\u001B[39m \u001B[43m        \u001B[49m\u001B[43mheaders\u001B[49m\u001B[43m=\u001B[49m\u001B[43mheaders\u001B[49m\u001B[43m,\u001B[49m\n\u001B[32m    424\u001B[39m \u001B[43m        \u001B[49m\u001B[43mignore\u001B[49m\u001B[43m=\u001B[49m\u001B[43mignore\u001B[49m\u001B[43m,\u001B[49m\n\u001B[32m    425\u001B[39m \u001B[43m        \u001B[49m\u001B[43mtimeout\u001B[49m\u001B[43m=\u001B[49m\u001B[43mtimeout\u001B[49m\u001B[43m,\u001B[49m\n\u001B[32m    426\u001B[39m \u001B[43m    \u001B[49m\u001B[43m)\u001B[49m\n\u001B[32m    428\u001B[39m     \u001B[38;5;66;03m# Lowercase all the header names for consistency in accessing them.\u001B[39;00m\n\u001B[32m    429\u001B[39m     headers_response = {\n\u001B[32m    430\u001B[39m         header.lower(): value \u001B[38;5;28;01mfor\u001B[39;00m header, value \u001B[38;5;129;01min\u001B[39;00m headers_response.items()\n\u001B[32m    431\u001B[39m     }\n",
      "\u001B[36mFile \u001B[39m\u001B[32m~\\anaconda3\\envs\\vector-db-performance-test\\Lib\\site-packages\\opensearchpy\\connection\\http_urllib3.py:308\u001B[39m, in \u001B[36mUrllib3HttpConnection.perform_request\u001B[39m\u001B[34m(self, method, url, params, body, timeout, ignore, headers)\u001B[39m\n\u001B[32m    304\u001B[39m \u001B[38;5;28;01mif\u001B[39;00m \u001B[38;5;129;01mnot\u001B[39;00m (\u001B[32m200\u001B[39m <= response.status < \u001B[32m300\u001B[39m) \u001B[38;5;129;01mand\u001B[39;00m response.status \u001B[38;5;129;01mnot\u001B[39;00m \u001B[38;5;129;01min\u001B[39;00m ignore:\n\u001B[32m    305\u001B[39m     \u001B[38;5;28mself\u001B[39m.log_request_fail(\n\u001B[32m    306\u001B[39m         method, full_url, url, orig_body, duration, response.status, raw_data\n\u001B[32m    307\u001B[39m     )\n\u001B[32m--> \u001B[39m\u001B[32m308\u001B[39m     \u001B[38;5;28;43mself\u001B[39;49m\u001B[43m.\u001B[49m\u001B[43m_raise_error\u001B[49m\u001B[43m(\u001B[49m\n\u001B[32m    309\u001B[39m \u001B[43m        \u001B[49m\u001B[43mresponse\u001B[49m\u001B[43m.\u001B[49m\u001B[43mstatus\u001B[49m\u001B[43m,\u001B[49m\n\u001B[32m    310\u001B[39m \u001B[43m        \u001B[49m\u001B[43mraw_data\u001B[49m\u001B[43m,\u001B[49m\n\u001B[32m    311\u001B[39m \u001B[43m        \u001B[49m\u001B[38;5;28;43mself\u001B[39;49m\u001B[43m.\u001B[49m\u001B[43mget_response_headers\u001B[49m\u001B[43m(\u001B[49m\u001B[43mresponse\u001B[49m\u001B[43m)\u001B[49m\u001B[43m.\u001B[49m\u001B[43mget\u001B[49m\u001B[43m(\u001B[49m\u001B[33;43m\"\u001B[39;49m\u001B[33;43mcontent-type\u001B[39;49m\u001B[33;43m\"\u001B[39;49m\u001B[43m)\u001B[49m\u001B[43m,\u001B[49m\n\u001B[32m    312\u001B[39m \u001B[43m    \u001B[49m\u001B[43m)\u001B[49m\n\u001B[32m    314\u001B[39m \u001B[38;5;28mself\u001B[39m.log_request_success(\n\u001B[32m    315\u001B[39m     method, full_url, url, orig_body, response.status, raw_data, duration\n\u001B[32m    316\u001B[39m )\n\u001B[32m    318\u001B[39m \u001B[38;5;28;01mreturn\u001B[39;00m response.status, response.headers, raw_data\n",
      "\u001B[36mFile \u001B[39m\u001B[32m~\\anaconda3\\envs\\vector-db-performance-test\\Lib\\site-packages\\opensearchpy\\connection\\base.py:315\u001B[39m, in \u001B[36mConnection._raise_error\u001B[39m\u001B[34m(self, status_code, raw_data, content_type)\u001B[39m\n\u001B[32m    312\u001B[39m \u001B[38;5;28;01mexcept\u001B[39;00m (\u001B[38;5;167;01mValueError\u001B[39;00m, \u001B[38;5;167;01mTypeError\u001B[39;00m) \u001B[38;5;28;01mas\u001B[39;00m err:\n\u001B[32m    313\u001B[39m     logger.warning(\u001B[33m\"\u001B[39m\u001B[33mUndecodable raw error response from server: \u001B[39m\u001B[38;5;132;01m%s\u001B[39;00m\u001B[33m\"\u001B[39m, err)\n\u001B[32m--> \u001B[39m\u001B[32m315\u001B[39m \u001B[38;5;28;01mraise\u001B[39;00m HTTP_EXCEPTIONS.get(status_code, TransportError)(\n\u001B[32m    316\u001B[39m     status_code, error_message, additional_info\n\u001B[32m    317\u001B[39m )\n",
      "\u001B[31mRequestError\u001B[39m: RequestError(400, 'resource_already_exists_exception', 'index [index1/V9yK1iW3SgWNUDcGM8HIbQ] already exists')"
     ]
    }
   ],
   "execution_count": 6
  },
  {
   "metadata": {
    "ExecuteTime": {
     "end_time": "2025-09-25T07:59:10.094267Z",
     "start_time": "2025-09-25T07:59:07.922391Z"
    }
   },
   "cell_type": "code",
   "source": [
    "from src.datasets.service.openai_small_dataset import OpenAISmallDataset\n",
    "from src.file_downloader.file_download_impl import FileDownloaderImpl\n",
    "file_downloader = FileDownloaderImpl()\n",
    "dataset = OpenAISmallDataset(file_downloader)"
   ],
   "id": "9635dacf2d6648b5",
   "outputs": [],
   "execution_count": 8
  },
  {
   "metadata": {
    "ExecuteTime": {
     "end_time": "2025-09-25T07:59:27.530262Z",
     "start_time": "2025-09-25T07:59:27.526714Z"
    }
   },
   "cell_type": "code",
   "source": "database.create_table(dataset.get_vector_size())",
   "id": "22d8b46b120d0d65",
   "outputs": [],
   "execution_count": 12
  },
  {
   "metadata": {
    "ExecuteTime": {
     "end_time": "2025-09-25T07:59:12.128127Z",
     "start_time": "2025-09-25T07:59:12.056313Z"
    }
   },
   "cell_type": "code",
   "source": [
    "for documents in tqdm_with_dataset(dataset, 'train'):\n",
    "    database.insert_batch(documents)"
   ],
   "id": "f3cf8ecf858205f7",
   "outputs": [
    {
     "name": "stderr",
     "output_type": "stream",
     "text": [
      "100%|██████████| 50000/50000 [00:00<00:00, 780408.22it/s]\n"
     ]
    }
   ],
   "execution_count": 10
  },
  {
   "metadata": {},
   "cell_type": "code",
   "outputs": [],
   "execution_count": null,
   "source": "",
   "id": "ea609e57012cb66b"
  }
 ],
 "metadata": {
  "kernelspec": {
   "display_name": "Python 3",
   "language": "python",
   "name": "python3"
  },
  "language_info": {
   "codemirror_mode": {
    "name": "ipython",
    "version": 2
   },
   "file_extension": ".py",
   "mimetype": "text/x-python",
   "name": "python",
   "nbconvert_exporter": "python",
   "pygments_lexer": "ipython2",
   "version": "2.7.6"
  }
 },
 "nbformat": 4,
 "nbformat_minor": 5
}
